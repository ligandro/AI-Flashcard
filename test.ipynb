{
 "cells": [
  {
   "cell_type": "code",
   "execution_count": 4,
   "metadata": {},
   "outputs": [],
   "source": [
    "import requests\n",
    "from bs4 import BeautifulSoup\n",
    "import re\n",
    "import nltk\n",
    "from nltk.tokenize import sent_tokenize\n",
    "from nltk.corpus import stopwords\n",
    "import json\n",
    "import os\n",
    "from dotenv import load_dotenv\n",
    "from openai import OpenAI\n",
    "from youtube_transcript_api import YouTubeTranscriptApi\n",
    "from urllib.parse import urlparse, parse_qs\n",
    "import warnings\n",
    "import subprocess\n",
    "\n",
    "\n",
    "\n",
    "\n",
    "# Suppress SSL warnings for testing\n",
    "warnings.filterwarnings(\"ignore\", message=\"Unverified HTTPS request\")\n"
   ]
  },
  {
   "cell_type": "code",
   "execution_count": 6,
   "metadata": {},
   "outputs": [],
   "source": [
    "class ContentProcessor:\n",
    "    def __init__(self):\n",
    "        self.stop_words = set(stopwords.words('english'))\n",
    "\n",
    "    def is_youtube_url(self, url):\n",
    "        parsed = urlparse(url)\n",
    "        return any(domain in parsed.netloc for domain in ['youtube.com', 'youtu.be'])\n",
    "\n",
    "    def get_youtube_id(self, url):\n",
    "        parsed = urlparse(url)\n",
    "        if parsed.netloc == 'youtu.be':\n",
    "            return parsed.path[1:]\n",
    "        if 'youtube.com' in parsed.netloc:\n",
    "            if 'v' in parse_qs(parsed.query):\n",
    "                return parse_qs(parsed.query)['v'][0]\n",
    "            if parsed.path.startswith('/embed/'):\n",
    "                return parsed.path.split('/')[2]\n",
    "            if parsed.path.startswith('/watch/'):\n",
    "                return parsed.path.split('/')[2]\n",
    "        return None\n",
    "\n",
    "    def extract_youtube_content(self, url):\n",
    "        try:\n",
    "            video_id = self.get_youtube_id(url)\n",
    "            if not video_id:\n",
    "                return {\"error\": \"Invalid YouTube URL\", \"url\": url}\n",
    "\n",
    "            transcript = YouTubeTranscriptApi.get_transcript(video_id)\n",
    "            content = ' '.join([entry['text'] for entry in transcript])\n",
    "            \n",
    "            # Get video title\n",
    "            embed_url = f\"https://www.youtube.com/oembed?url=https://www.youtube.com/watch?v={video_id}&format=json\"\n",
    "            response = requests.get(embed_url)\n",
    "            title = response.json().get('title', f\"Video {video_id}\")\n",
    "\n",
    "            return {\n",
    "                \"title\": title,\n",
    "                \"content\": content,\n",
    "                \"url\": url\n",
    "            }\n",
    "        except Exception as e:\n",
    "            return {\"error\": f\"YouTube error: {str(e)}\", \"url\": url}\n",
    "\n",
    "    def extract_web_content(self, url):\n",
    "        try:\n",
    "            headers = {\n",
    "                'User-Agent': 'Mozilla/5.0 (Windows NT 10.0; Win64; x64) AppleWebKit/537.36 (KHTML, like Gecko) Chrome/120.0.0.0 Safari/537.36',\n",
    "                'Accept-Language': 'en-US,en;q=0.9'\n",
    "            }\n",
    "            \n",
    "            response = requests.get(url, headers=headers, timeout=10, verify=False)\n",
    "            response.raise_for_status()\n",
    "            \n",
    "            soup = BeautifulSoup(response.text, 'lxml')\n",
    "            \n",
    "            # Clean page\n",
    "            for element in soup(['script', 'style', 'nav', 'footer', 'header', 'aside', 'form', 'button', 'iframe', 'noscript']):\n",
    "                element.decompose()\n",
    "\n",
    "            # Extract content\n",
    "            article = soup.find('article') or soup.find('main') or soup.find('div', role='main')\n",
    "            if article:\n",
    "                content = article.get_text(separator='\\n', strip=True)\n",
    "            else:\n",
    "                body = soup.find('body')\n",
    "                paragraphs = body.find_all(['p', 'h1', 'h2', 'h3']) if body else []\n",
    "                content = '\\n'.join([p.get_text(strip=True) for p in paragraphs if p.get_text(strip=True)])\n",
    "\n",
    "            content = re.sub(r'\\n{3,}', '\\n\\n', content.strip())\n",
    "            return {\n",
    "                \"title\": soup.title.string.strip() if soup.title else \"Untitled\",\n",
    "                \"content\": content,\n",
    "                \"url\": url\n",
    "            }\n",
    "        except Exception as e:\n",
    "            return {\"error\": f\"Web extraction error: {str(e)}\", \"url\": url}\n",
    "\n",
    "    def extract_content_from_url(self, url):\n",
    "        if self.is_youtube_url(url):\n",
    "            return self.extract_youtube_content(url)\n",
    "        return self.extract_web_content(url)\n",
    "\n",
    "    def extract_key_sentences(self, content, max_sentences=20):\n",
    "        sentences = sent_tokenize(content)\n",
    "        if not sentences:\n",
    "            return []\n",
    "\n",
    "        word_freq = {}\n",
    "        for sentence in sentences:\n",
    "            words = sentence.lower().split()\n",
    "            for word in words:\n",
    "                if word not in self.stop_words and len(word) > 3:\n",
    "                    word_freq[word] = word_freq.get(word, 0) + 1\n",
    "\n",
    "        sentence_scores = {}\n",
    "        for i, sentence in enumerate(sentences):\n",
    "            words = sentence.lower().split()\n",
    "            score = sum(word_freq.get(word, 0) for word in words if word not in self.stop_words)\n",
    "            if len(words) > 0:\n",
    "                score /= len(words)\n",
    "            sentence_scores[i] = score\n",
    "\n",
    "        top_indices = sorted(sentence_scores.keys(), key=lambda i: sentence_scores[i], reverse=True)[:max_sentences]\n",
    "        top_indices.sort()\n",
    "        return [sentences[idx] for idx in top_indices]\n"
   ]
  },
  {
   "cell_type": "code",
   "execution_count": 7,
   "metadata": {},
   "outputs": [],
   "source": [
    "processor = ContentProcessor()\n",
    "url = \"https://jasminbharadiya.medium.com/the-art-of-data-extraction-enhancing-web-content-analysis-with-large-language-models-65e6f3dfbf1d\"\n",
    "url = \"https://www.youtube.com/watch?v=kRybqfQ9zCE&list=WL&index=16&t=64s&pp=gAQBiAQB\"\n",
    "content_data = processor.extract_content_from_url(url)"
   ]
  },
  {
   "cell_type": "code",
   "execution_count": 8,
   "metadata": {},
   "outputs": [
    {
     "data": {
      "text/plain": [
       "{'title': \"2023's Most Beautiful Movie About Love\",\n",
       " 'content': 'This video is brought to you by AdamandEve.com.\\xa0\\nUse my code LSOO for 50% off 1 item + Free\\xa0Shipping in US & Canada Who do you think they are to each other?\\xa0 This is the question that opens Past Lives,\\xa0\\nthe first feature movie by Celine Song,\\xa0\\xa0 as we follow a voyeuristic gaze at three strangers\\xa0\\nsitting across the bar. They won’t, of course,\\xa0\\xa0 be strangers for long. Soon, we will learn\\xa0\\nexactly who they are and how their lives are\\xa0\\xa0 intertwined. And yet, the question remains\\xa0\\nsignificant. For it tells us that whatever\\xa0\\xa0 expectations we might have, things will not\\xa0\\nbe as they appear at first sight. Indeed,\\xa0\\xa0 Past Lives is a movie that goes on to quietly\\xa0\\nyet significantly subvert many tropes of the\\xa0\\xa0 romantic genre, but it also reconstructs them into\\xa0\\nsomething new, something that I wasn’t expecting,\\xa0\\xa0 and which to me, elevates it to one of, if not\\xa0\\nthe most beautiful love story in a long time.\\xa0 Past Lives can be roughly divided into three\\xa0\\nchapters: in the first one we meet Nora and\\xa0\\xa0 Hae Sung as adolescent kids in Korea harboring\\xa0\\na secret crush on each other. The young romance,\\xa0\\xa0 however, isn’t allowed to blossom as Nora’s\\xa0\\nfamily emigrates to Canada. 12 years pass. In\\xa0\\xa0 this second chapter of the story, Nora is now\\xa0\\na playwright in New York, Hae Sung still lives\\xa0\\xa0 in Korea. The two reconnect over the internet,\\xa0\\nbut Nora becomes increasingly worried about her\\xa0\\xa0 growing intimacy with a person who only exists on\\xa0\\nher laptop screen. And so, she hits the brakes,\\xa0\\xa0 and the two fall out of each other’s lives\\xa0\\nagain. Another 12 years pass. Now we move into\\xa0\\xa0 the main portion of the story. Hae Sung goes on\\xa0\\na vacation to New York where, for the first time\\xa0\\xa0 in over 20 years, he meets up with Nora who is\\xa0\\nnow married to an American novelist named Arthur.\\xa0 Do you know you only speak in\\xa0\\nKorean when you talk in your sleep?\\xa0 At this point, you might expect, as I initially\\xa0\\ndid, a story in which the main conflict, both with\\xa0\\xa0 regards to the internal struggle of the central\\xa0\\ncharacter as well as to the direction of the plot,\\xa0\\xa0 is primarily driven by doubt. Did Nora make the\\xa0\\nright choice by marrying Arthur, or would Hae Sung\\xa0\\xa0 have been the better option? Who does she love\\xa0\\nmore? Who is she going to end up with? You know,\\xa0\\xa0 it’s the path as laid out by movies such as\\xa0\\nBefore Sunset, in which two former lovers\\xa0\\xa0 meet again after not having seen each other for\\xa0\\n9 years, prompting a re-evaluation of their life\\xa0\\xa0 choices that eventually culminates into a new\\xa0\\ncrossroad, a new moment of decision-making. And\\xa0\\xa0 more specifically, it presents a new chance to\\xa0\\nmake the right choice. Because if you had seen\\xa0\\xa0 the previous movie Before Sunrise, you already\\xa0\\nknew these two have great chemistry, and seeing\\xa0\\xa0 how they are still so great together years\\xa0\\nlater while also learning how unfulfilled their\\xa0\\xa0 lives have been without each other, the movie\\xa0\\nalmost naturally creates this sense of destiny,\\xa0\\xa0 this feeling that these two, despite having\\xa0\\nbeen momentarily kept apart by circumstance,\\xa0\\xa0 are just meant to be together.\\nI was just thinking about what\\xa0\\xa0 a good story this is. Childhood sweethearts\\xa0\\nwho reconnect 20 years later only to realize\\xa0\\xa0 they were meant for each other.\\nPast Lives, on the other hand,\\xa0\\xa0 subverts this expectation by\\xa0\\ndeliberately calling attention to it.\\xa0 In the story, I would be the evil white\\xa0\\nAmerican husband standing in the way of destiny.\\xa0 Shut up.\\nIt does this not to display\\xa0\\xa0 how meta-aware it is about the tropes of the\\xa0\\ngenre, but to emphasize that this is a different\\xa0\\xa0 kind of story, with a different focus, and with\\xa0\\na different tension. Indeed, though presenting us\\xa0\\xa0 with what appears to be a love triangle that will\\xa0\\neventually favor the two characters who have the\\xa0\\xa0 more beautiful story and therefore have fate, and\\xa0\\nthe audience on their side, at no point is there\\xa0\\xa0 any real suspense that this might actually happen,\\xa0\\nthat there is going to be another grand moment of\\xa0\\xa0 choice. Nora makes it very clear, both to Arthur\\xa0\\nand to us in the audience, that there is no way\\xa0\\xa0 that she would run off with Hae Sung.\\nDo you even know me? I\\'m\\xa0\\xa0 not gonna miss my rehearsals for some dude.\\nAnd so, when Nora and Hae Sung finally reunite,\\xa0\\xa0 there just isn’t that same atmosphere\\xa0\\nas there is in Before Sunset,\\xa0\\xa0 there isn’t that same gravitational pull that\\xa0\\nhas us yearning for these childhood lovers\\xa0\\xa0 to actually upset their lives and be together.\\nAnd yet, there clearly is a strong emotion here,\\xa0\\xa0 a feeling of bittersweet melancholy that does feel\\xa0\\nadjacent to words like doubt, longing or regret,\\xa0\\xa0 but none of these truly seem to capture what Past\\xa0\\nLives is trying to articulate. Doubt is generally\\xa0\\xa0 seen as a form of worrying, you know; worrying\\xa0\\nwhether or not you made a correct decision. It’s\\xa0\\xa0 about weighing options in terms of right and\\xa0\\nwrong, like; would Nora have been happier if\\xa0\\xa0 her family never moved out of Korea, would a life\\xa0\\nwith Hae Sun have been more fulfilling? Which also\\xa0\\xa0 feeds into that underlying assumption of destiny\\xa0\\nor fate, the idea that there was a better path,\\xa0\\xa0 a right path out there that we may have\\xa0\\nmissed, and that now fills us with regret.\\xa0 But while the movie allows its characters to ask\\xa0\\nquestions like these, allows them to wonder about\\xa0\\xa0 what might have been, it feels like it also wants\\xa0\\nto demonstrate just how limiting of a framework\\xa0\\xa0 our language can be when trying to articulate\\xa0\\nwhat it really feels like, what it really means,\\xa0\\xa0 to look back on the choices that shaped our lives,\\xa0\\nand to contemplate where we are and who we are in\\xa0\\xa0 the present. It’s a deconstruction that begins by\\xa0\\nconsidering how our lives are not just directed\\xa0\\xa0 by decisions that we made, but also, and maybe\\xa0\\neven more so, by those that were made for us.\\xa0 I feel so not Korean when I\\'m with him.\\xa0\\nBut also, in some way, more Korean?\\xa0 In his review of the movie, Carlos Aguilar\\xa0\\ndraws attention to the implications of Nora’s\\xa0\\xa0 childhood immigration. “There’s a unique emotional\\xa0\\ndisplacement that happens to people who migrated\\xa0\\xa0 when they were old enough to have forged memories\\xa0\\nof life in their homeland but still young enough\\xa0\\xa0 to be remolded by a new environment. As the years\\xa0\\nmount, and you become someone else somewhere else,\\xa0\\xa0 that previous existence, now so distant\\xa0\\nfrom your current reality, begins to\\xa0\\xa0 fade into a corner of your subconscious\\xa0\\ncovered in the cobwebs of nostalgia.”\\xa0\\xa0 In this context, it becomes even clearer that\\xa0\\nNora’s reunion with Hae Sung is not about\\xa0\\xa0 the future, he doesn’t re-enter her life as a\\xa0\\npotential new direction for her to go in. Instead,\\xa0\\xa0 he’s more of a bridge to the past, one that\\xa0\\nundeniable rekindled a part of Nora’s history\\xa0\\xa0 and identity that had been dormant for many\\xa0\\nyears, but also one that affirmed just how\\xa0\\xa0 estranged she has become from it.\\nHe\\'s so Korean. I mean, I have\\xa0\\xa0 Korean friends, but he\\'s not, like,\\xa0\\nKorean-American. He\\'s Korean-Korean.\\xa0 By emphasizing the definitiveness of time; the way\\xa0\\nit solidified Nora’s past into a part of her being\\xa0\\xa0 that she will always carry with her, while also\\xa0\\ngrounding her so firmly in her current existence\\xa0\\xa0 that she can never truly return to it, Past\\xa0\\nLives becomes less about what could have been,\\xa0\\xa0 even less so about what should have been, and more\\xa0\\nabout how what is came to be, about how it defined\\xa0\\xa0 who we are, and about reconciling ourselves with\\xa0\\nthe way time eventually narrows down the boundless\\xa0\\xa0 potential for possible life directions into a\\xa0\\nconcrete and singular reality. And while there\\xa0\\xa0 is definitely some element of grief involved\\xa0\\nin becoming aware of this movement, and in the\\xa0\\xa0 inevitable contemplation of all the lives that\\xa0\\nweren’t lived, all the places that weren’t stayed\\xa0\\xa0 in, and all the connections that were broken, as\\xa0\\ncritic Richard Lawson wrote, “Past Lives is not\\xa0\\xa0 concerned with regret. It is instead a thoughtful,\\xa0\\nhumane rumination on what may be fixed in personal\\xa0\\xa0 history but remains forever fluid in the mind.”\\nYou dream in a language that I can\\'t understand.\\xa0\\xa0 It\\'s like there\\'s this whole place\\xa0\\ninside of you where I can\\'t go.\\xa0 It’s essentially a search for meaning,\\xa0\\nfor understanding. Perhaps even,\\xa0\\xa0 for justification. One that can be\\xa0\\ndefined by replacing ‘what if’ for ‘why’;\\xa0\\xa0 Why is it that we are who we are? Why\\xa0\\naren’t we someone else, somewhere else,\\xa0\\xa0 and with somebody else? It’s questions like these\\xa0\\nthat go beyond that imagining or that longing for\\xa0\\xa0 what we might have missed out on, and also relate\\xa0\\nto feelings of insecurity about what we did end\\xa0\\xa0 up with. For what does it really mean, as Arthur\\xa0\\nseems to wonder at one point, to have something\\xa0\\xa0 if the only the reason you have it is because of\\xa0\\na series of arbitrary circumstances that may as\\xa0\\xa0 well have gone in an entirely different direction.\\nWhat if you met somebody else at that residency?\\xa0\\xa0 What if there was another writer from New York\\xa0\\nwho had also read all the same books you had,\\xa0\\xa0 wouldn\\'t you be laying here with him?\\nThat’s not how life works.\\xa0 It does seem to take the romance out of the\\xa0\\nlove story a little bit, the idea that our\\xa0\\xa0 relationships are primarily defined by random\\xa0\\nchance, that one tiny alteration in our past could\\xa0\\xa0 have prevented us from even meeting those who\\xa0\\nwe now can’t imagine living without. And perhaps\\xa0\\xa0 even more confronting, the realization that this\\xa0\\nalternative life wouldn’t have been meaningfully\\xa0\\xa0 different. That our loved ones would have just\\xa0\\nmet other people, made different connections,\\xa0\\xa0 fallen in love, and lived out their lives with\\xa0\\nsomeone else, never even knowing we existed.\\xa0\\xa0 It makes it only natural that we worry about\\xa0\\nwhat this means for our current relationships,\\xa0\\xa0 and that we start to experience those more ‘what\\xa0\\nif’ kind of doubts that we talked about earlier.\\xa0 It\\'s just that you make my life so much bigger.\\xa0\\nAnd I\\'m wondering if I do the same thing for you.\\xa0 You do. This is where we ended up.\\xa0\\nThis is where I\\'m supposed to be.\\xa0 Here, the movie does something interesting by\\xa0\\nseemingly re-introducing the idea of destiny,\\xa0\\xa0 albeit its own version of destiny, presented\\xa0\\nhere as the Korean notion of In-Yun;\\xa0 It means \"providence\". Or... \"fate\". But it\\'s\\xa0\\nspecifically about relationships between people.\\xa0 In-Yun, as Nora explains it, suggests that every\\xa0\\nencounter between people in their past lives,\\xa0\\xa0 even if it’s just a moment of accidentally\\xa0\\nbrushing your clothes with a stranger,\\xa0\\xa0 forms an In-Yun, a sort of spiritual connection.\\xa0\\nThese connections then accumulate over the ages,\\xa0\\xa0 and when two people have acquired enough\\xa0\\nof them, 8000 of them to be precise,\\xa0\\xa0 that’s when they find each other, and that’s\\xa0\\nwhen they can live happily ever after.\\xa0 At first glance, it definitely feels like it\\xa0\\nbrings back some of the romanticism that got\\xa0\\xa0 lost in the deconstruction of the pre-destined\\xa0\\nlove story, but at the same time, it also feels\\xa0\\xa0 more nuanced, more retrospective than the kind\\xa0\\nof destiny that explicitly or implicitly grabs\\xa0\\xa0 us in the beginning and has us rooting for its\\xa0\\nmanifestation in the future. In Past Lives, the\\xa0\\xa0 concept of In-Yun is not used to reach some kind\\xa0\\nof definitive judgement, to either celebrate the\\xa0\\xa0 achievement of destiny, or to mourn having missed\\xa0\\nout on it. Instead, it’s more about emphasizing\\xa0\\xa0 the importance of reaching a sort of peaceful\\xa0\\nresignation, the importance of acknowledging\\xa0\\xa0 that anything could have been anything else,\\xa0\\nwhile still finding closure in what actually is.\\xa0 The real reason why Past Lives stands out so much\\xa0\\nto me personally, however, is because it doesn’t\\xa0\\xa0 end with one idea taking over the other, it’s\\xa0\\nnot all dreamy nor is it fully grounded in stark\\xa0\\xa0 realism. But instead it balances both of these\\xa0\\nelements together as two sides of the same coin,\\xa0\\xa0 as two ways of reflecting on our lives and\\xa0\\nourselves that, as contradictory as they can be,\\xa0\\xa0 somehow still come to simultaneously inhabit\\xa0\\nour mind as we grow older. And as frustrating\\xa0\\xa0 as it can be to find yourself caught between\\xa0\\nromanticism and nihilism, between being aware\\xa0\\xa0 that your life might be the way it is for totally\\xa0\\narbitrary reasons, and still having it mean the\\xa0\\xa0 world to you, as the characters in Past Lives\\xa0\\ndemonstrate, there is a harmony to be found,\\xa0\\xa0 as Richard Lawson put it, in that beautiful\\xa0\\nmingling of all of our wistful, pragmatic\\xa0\\xa0 adult understanding, and that otherworldly sense\\xa0\\nthat we are all floating on the winds of fate.\\xa0 Lastly, I think it’s important to point\\xa0\\nout that Past Lives is not just about the\\xa0\\xa0 love story between Nora and Hae Sung, but is as\\xa0\\nmuch, if not more so, about that between Nora and\\xa0\\xa0 Arthur. Though being somewhat understated, there\\xa0\\nis a quiet beauty in their mutual acceptance of\\xa0\\xa0 the fact that we can never fully encapsulate those\\xa0\\nclosest to us, that there will always be parts of\\xa0\\xa0 them that we cannot access. But more importantly,\\xa0\\nthey also demonstrate how this doesn’t have to\\xa0\\xa0 be an obstacle in our relationships, but can\\xa0\\nactually be an path towards greater intimacy.\\xa0\\xa0 Throughout the story, Arthur displays\\xa0\\na tremendous amount of support,\\xa0\\xa0 open-mindedness and trust that enables Nora to\\xa0\\nfreely explore that unresolved part of herself\\xa0\\xa0 existing outside of their relationship, and he\\xa0\\neven accompanies her during that exploration.\\xa0\\xa0 And this not only allows Nora to\\xa0\\nmake peace with her past for herself,\\xa0\\xa0 but it also brings it into her unity with\\xa0\\nArthur, makes him a part of that which was\\xa0\\xa0 once inaccessible to him, leaving their\\xa0\\nrelationship stronger than ever before.\\xa0 You and me.\\nYeah. Yeah, you and I are In-Yun too.\\xa0 If, after all of this, you feel inspired\\xa0\\nto grow closer with your partner,\\xa0\\xa0 or just explore the world of love on your\\xa0\\nown with an open mind and an open heart,\\xa0\\xa0 I suggest heading over to Adam and Eve,\\xa0\\na company that, like Past Lives, will for\\xa0\\xa0 sure help you on your way to greater intimacy.\\xa0\\nRemember to use my code LSOO for 50% off 1 item\\xa0\\xa0 and to get free Shipping in the US and Canada,\\xa0\\nand yeah, just go have a look, and have fun.',\n",
       " 'url': 'https://www.youtube.com/watch?v=kRybqfQ9zCE&list=WL&index=16&t=64s&pp=gAQBiAQB'}"
      ]
     },
     "execution_count": 8,
     "metadata": {},
     "output_type": "execute_result"
    }
   ],
   "source": [
    "content_data"
   ]
  },
  {
   "cell_type": "code",
   "execution_count": 9,
   "metadata": {},
   "outputs": [],
   "source": [
    "if \"error\" in content_data:\n",
    "    error = content_data[\"error\"]\n",
    "    if \"YouTube\" in error:\n",
    "        error += \". Ensure captions are enabled.\"\n",
    "    print( {\"error\": error, \"title\": \"Error\", \"url\": url, \"flashcards\": []})\n",
    "\n",
    "key_sentences = processor.extract_key_sentences(content_data[\"content\"])"
   ]
  },
  {
   "cell_type": "code",
   "execution_count": 10,
   "metadata": {},
   "outputs": [
    {
     "data": {
      "text/plain": [
       "['This is the question that opens Past Lives,\\xa0\\nthe first feature movie by Celine Song,\\xa0\\xa0 as we follow a voyeuristic gaze at three strangers\\xa0\\nsitting across the bar.',\n",
       " 'Indeed,\\xa0\\xa0 Past Lives is a movie that goes on to quietly\\xa0\\nyet significantly subvert many tropes of the\\xa0\\xa0 romantic genre, but it also reconstructs them into\\xa0\\nsomething new, something that I wasn’t expecting,\\xa0\\xa0 and which to me, elevates it to one of, if not\\xa0\\nthe most beautiful love story in a long time.']"
      ]
     },
     "execution_count": 10,
     "metadata": {},
     "output_type": "execute_result"
    }
   ],
   "source": [
    "key_sentences[:2]"
   ]
  },
  {
   "cell_type": "code",
   "execution_count": 11,
   "metadata": {},
   "outputs": [],
   "source": [
    "if not key_sentences:\n",
    "    print( {\"error\": \"No meaningful content found\", \"title\": content_data[\"title\"], \"url\": url, \"flashcards\": []})\n"
   ]
  },
  {
   "cell_type": "code",
   "execution_count": 12,
   "metadata": {},
   "outputs": [],
   "source": [
    "content_data[\"content\"] = \" \".join(key_sentences)\n"
   ]
  },
  {
   "cell_type": "code",
   "execution_count": null,
   "metadata": {},
   "outputs": [],
   "source": [
    "system_message = \"\"\"You are an educational content expert. Create flashcards in this EXACT format:\n",
    "[\n",
    "    {\"question\": \"...\", \"answer\": \"...\"},\n",
    "    // more items\n",
    "]\n",
    "ONLY output valid JSON array with question/answer pairs. Follow these rules:\n",
    "1. Questions should test understanding of key concepts\n",
    "2. Answers must be concise but complete\n",
    "3. Never add explanations or markdown\n",
    "4. Keep in mind of the outout {} brackets\n",
    "4. Keep in mind of [,] brackets. Add [ at start of response and ] at end\n",
    "5. Keep in mind of the amount of flashcards to generate\"\"\"\n",
    "\n",
    "user_message = f\"Content Title: {content_data['title']}\\nContent Excerpt:\\n{content_data['content']}\\n\\nGenerate exactly {2} flashcards:\"\n",
    "\n",
    "\n",
    "# Run Ollama LLM locally\n",
    "prompt = f\"{system_message}\\n{user_message}\""
   ]
  },
  {
   "cell_type": "code",
   "execution_count": 93,
   "metadata": {},
   "outputs": [
    {
     "data": {
      "text/plain": [
       "'You are an educational content expert. Create flashcards in this EXACT format:\\n[\\n    {\"question\": \"...\", \"answer\": \"...\"},\\n    // more items\\n]\\nONLY output valid JSON array with question/answer pairs. Follow these rules:\\n1. Questions should test understanding of key concepts\\n2. Answers must be concise but complete\\n3. Never add explanations or markdown\\n4. Keep in mind of the outout {} brackets\\n4. Keep in mind of [,] brackets. Add [ at start of response and ] at end\\n5. Keep in mind of the amount of flashcards to generate\\nContent Title: 2023\\'s Most Beautiful Movie About Love\\nContent Excerpt:\\nThis is the question that opens Past Lives,\\xa0\\nthe first feature movie by Celine Song,\\xa0\\xa0 as we follow a voyeuristic gaze at three strangers\\xa0\\nsitting across the bar. Indeed,\\xa0\\xa0 Past Lives is a movie that goes on to quietly\\xa0\\nyet significantly subvert many tropes of the\\xa0\\xa0 romantic genre, but it also reconstructs them into\\xa0\\nsomething new, something that I wasn’t expecting,\\xa0\\xa0 and which to me, elevates it to one of, if not\\xa0\\nthe most beautiful love story in a long time. Past Lives can be roughly divided into three\\xa0\\nchapters: in the first one we meet Nora and\\xa0\\xa0 Hae Sung as adolescent kids in Korea harboring\\xa0\\na secret crush on each other. 12 years pass. In\\xa0\\xa0 this second chapter of the story, Nora is now\\xa0\\na playwright in New York, Hae Sung still lives\\xa0\\xa0 in Korea. Another 12 years pass. Did Nora make the\\xa0\\nright choice by marrying Arthur, or would Hae Sung\\xa0\\xa0 have been the better option? Past Lives, on the other hand,\\xa0\\xa0 subverts this expectation by\\xa0\\ndeliberately calling attention to it. Do you even know me? And yet, there clearly is a strong emotion here,\\xa0\\xa0 a feeling of bittersweet melancholy that does feel\\xa0\\nadjacent to words like doubt, longing or regret,\\xa0\\xa0 but none of these truly seem to capture what Past\\xa0\\nLives is trying to articulate. It’s\\xa0\\xa0 about weighing options in terms of right and\\xa0\\nwrong, like; would Nora have been happier if\\xa0\\xa0 her family never moved out of Korea, would a life\\xa0\\nwith Hae Sun have been more fulfilling? He\\'s Korean-Korean. It’s essentially a search for meaning,\\xa0\\nfor understanding. Why\\xa0\\naren’t we someone else, somewhere else,\\xa0\\xa0 and with somebody else? That’s not how life works. And perhaps\\xa0\\xa0 even more confronting, the realization that this\\xa0\\nalternative life wouldn’t have been meaningfully\\xa0\\xa0 different. That our loved ones would have just\\xa0\\nmet other people, made different connections,\\xa0\\xa0 fallen in love, and lived out their lives with\\xa0\\nsomeone else, never even knowing we existed. In-Yun, as Nora explains it, suggests that every\\xa0\\nencounter between people in their past lives,\\xa0\\xa0 even if it’s just a moment of accidentally\\xa0\\nbrushing your clothes with a stranger,\\xa0\\xa0 forms an In-Yun, a sort of spiritual connection. The real reason why Past Lives stands out so much\\xa0\\nto me personally, however, is because it doesn’t\\xa0\\xa0 end with one idea taking over the other, it’s\\xa0\\nnot all dreamy nor is it fully grounded in stark\\xa0\\xa0 realism. Lastly, I think it’s important to point\\xa0\\nout that Past Lives is not just about the\\xa0\\xa0 love story between Nora and Hae Sung, but is as\\xa0\\nmuch, if not more so, about that between Nora and\\xa0\\xa0 Arthur.\\n\\nGenerate exactly 15 flashcards:'"
      ]
     },
     "execution_count": 93,
     "metadata": {},
     "output_type": "execute_result"
    }
   ],
   "source": [
    "prompt"
   ]
  },
  {
   "cell_type": "code",
   "execution_count": 94,
   "metadata": {},
   "outputs": [
    {
     "data": {
      "text/plain": [
       "3177"
      ]
     },
     "execution_count": 94,
     "metadata": {},
     "output_type": "execute_result"
    }
   ],
   "source": [
    "len(prompt)"
   ]
  },
  {
   "cell_type": "code",
   "execution_count": null,
   "metadata": {},
   "outputs": [],
   "source": [
    "system_message = \"\"\"You are an educational content expert. Create a summary of given content \n",
    "and return as string. \"\"\"\n",
    "\n",
    "user_message = f\"Content Title: {content_data['title']}\\nContent Excerpt:\\n{content_data['content']}\\n\"\n",
    "\n",
    "\n",
    "# Run Ollama LLM locally\n",
    "prompt = f\"{system_message}\\n{user_message}\""
   ]
  },
  {
   "cell_type": "code",
   "execution_count": 99,
   "metadata": {},
   "outputs": [],
   "source": [
    "import ollama\n",
    "\n",
    "# Initialize the Ollama client\n",
    "client = ollama.Client()\n",
    "\n",
    "# Define the model and the input prompt\n",
    "model = \"mistral\"  # Replace with your model name\n",
    "\n",
    "# Send the query to the model\n",
    "response = client.generate(model=model, prompt=prompt)\n",
    "\n",
    "# Process JSON response\n",
    "result = response.response\n",
    "cleaned_text = result.strip() "
   ]
  },
  {
   "cell_type": "code",
   "execution_count": 100,
   "metadata": {},
   "outputs": [
    {
     "data": {
      "text/plain": [
       "'Title: 2023\\'s Most Beautiful Movie About Love: Past Lives\\n   Content Excerpt: \"Past Lives\" by Celine Song challenges and redefines romantic genre tropes, offering a beautiful and profound exploration of love. The movie can be divided into three chapters, each tracing the relationship between Nora and Hae Sung over decades. Despite the lingering questions about the choices made in life, \"Past Lives\" subtly avoids typical romantic resolution, instead delving into the complexities of human connection, the search for meaning, and the exploration of alternate lives and loves. The movie is as much about Nora\\'s relationship with her husband Arthur as it is with Hae Sung. The unique aspect of \"Past Lives\" lies in its refusal to resolve between dreamy idealism and stark realism, making it a standout film in the romantic genre.'"
      ]
     },
     "execution_count": 100,
     "metadata": {},
     "output_type": "execute_result"
    }
   ],
   "source": [
    "cleaned_text"
   ]
  },
  {
   "cell_type": "code",
   "execution_count": 98,
   "metadata": {},
   "outputs": [
    {
     "ename": "JSONDecodeError",
     "evalue": "Expecting value: line 1 column 1 (char 0)",
     "output_type": "error",
     "traceback": [
      "\u001b[1;31m---------------------------------------------------------------------------\u001b[0m",
      "\u001b[1;31mJSONDecodeError\u001b[0m                           Traceback (most recent call last)",
      "Cell \u001b[1;32mIn[98], line 16\u001b[0m\n\u001b[0;32m     14\u001b[0m cleaned_text \u001b[38;5;241m=\u001b[39m result\u001b[38;5;241m.\u001b[39mstrip() \n\u001b[0;32m     15\u001b[0m json_str \u001b[38;5;241m=\u001b[39m cleaned_text\n\u001b[1;32m---> 16\u001b[0m flashcards \u001b[38;5;241m=\u001b[39m json\u001b[38;5;241m.\u001b[39mloads(json_str)\n",
      "File \u001b[1;32mc:\\Users\\lolen\\anaconda3\\Lib\\json\\__init__.py:346\u001b[0m, in \u001b[0;36mloads\u001b[1;34m(s, cls, object_hook, parse_float, parse_int, parse_constant, object_pairs_hook, **kw)\u001b[0m\n\u001b[0;32m    341\u001b[0m     s \u001b[38;5;241m=\u001b[39m s\u001b[38;5;241m.\u001b[39mdecode(detect_encoding(s), \u001b[38;5;124m'\u001b[39m\u001b[38;5;124msurrogatepass\u001b[39m\u001b[38;5;124m'\u001b[39m)\n\u001b[0;32m    343\u001b[0m \u001b[38;5;28;01mif\u001b[39;00m (\u001b[38;5;28mcls\u001b[39m \u001b[38;5;129;01mis\u001b[39;00m \u001b[38;5;28;01mNone\u001b[39;00m \u001b[38;5;129;01mand\u001b[39;00m object_hook \u001b[38;5;129;01mis\u001b[39;00m \u001b[38;5;28;01mNone\u001b[39;00m \u001b[38;5;129;01mand\u001b[39;00m\n\u001b[0;32m    344\u001b[0m         parse_int \u001b[38;5;129;01mis\u001b[39;00m \u001b[38;5;28;01mNone\u001b[39;00m \u001b[38;5;129;01mand\u001b[39;00m parse_float \u001b[38;5;129;01mis\u001b[39;00m \u001b[38;5;28;01mNone\u001b[39;00m \u001b[38;5;129;01mand\u001b[39;00m\n\u001b[0;32m    345\u001b[0m         parse_constant \u001b[38;5;129;01mis\u001b[39;00m \u001b[38;5;28;01mNone\u001b[39;00m \u001b[38;5;129;01mand\u001b[39;00m object_pairs_hook \u001b[38;5;129;01mis\u001b[39;00m \u001b[38;5;28;01mNone\u001b[39;00m \u001b[38;5;129;01mand\u001b[39;00m \u001b[38;5;129;01mnot\u001b[39;00m kw):\n\u001b[1;32m--> 346\u001b[0m     \u001b[38;5;28;01mreturn\u001b[39;00m _default_decoder\u001b[38;5;241m.\u001b[39mdecode(s)\n\u001b[0;32m    347\u001b[0m \u001b[38;5;28;01mif\u001b[39;00m \u001b[38;5;28mcls\u001b[39m \u001b[38;5;129;01mis\u001b[39;00m \u001b[38;5;28;01mNone\u001b[39;00m:\n\u001b[0;32m    348\u001b[0m     \u001b[38;5;28mcls\u001b[39m \u001b[38;5;241m=\u001b[39m JSONDecoder\n",
      "File \u001b[1;32mc:\\Users\\lolen\\anaconda3\\Lib\\json\\decoder.py:337\u001b[0m, in \u001b[0;36mJSONDecoder.decode\u001b[1;34m(self, s, _w)\u001b[0m\n\u001b[0;32m    332\u001b[0m \u001b[38;5;28;01mdef\u001b[39;00m \u001b[38;5;21mdecode\u001b[39m(\u001b[38;5;28mself\u001b[39m, s, _w\u001b[38;5;241m=\u001b[39mWHITESPACE\u001b[38;5;241m.\u001b[39mmatch):\n\u001b[0;32m    333\u001b[0m \u001b[38;5;250m    \u001b[39m\u001b[38;5;124;03m\"\"\"Return the Python representation of ``s`` (a ``str`` instance\u001b[39;00m\n\u001b[0;32m    334\u001b[0m \u001b[38;5;124;03m    containing a JSON document).\u001b[39;00m\n\u001b[0;32m    335\u001b[0m \n\u001b[0;32m    336\u001b[0m \u001b[38;5;124;03m    \"\"\"\u001b[39;00m\n\u001b[1;32m--> 337\u001b[0m     obj, end \u001b[38;5;241m=\u001b[39m \u001b[38;5;28mself\u001b[39m\u001b[38;5;241m.\u001b[39mraw_decode(s, idx\u001b[38;5;241m=\u001b[39m_w(s, \u001b[38;5;241m0\u001b[39m)\u001b[38;5;241m.\u001b[39mend())\n\u001b[0;32m    338\u001b[0m     end \u001b[38;5;241m=\u001b[39m _w(s, end)\u001b[38;5;241m.\u001b[39mend()\n\u001b[0;32m    339\u001b[0m     \u001b[38;5;28;01mif\u001b[39;00m end \u001b[38;5;241m!=\u001b[39m \u001b[38;5;28mlen\u001b[39m(s):\n",
      "File \u001b[1;32mc:\\Users\\lolen\\anaconda3\\Lib\\json\\decoder.py:355\u001b[0m, in \u001b[0;36mJSONDecoder.raw_decode\u001b[1;34m(self, s, idx)\u001b[0m\n\u001b[0;32m    353\u001b[0m     obj, end \u001b[38;5;241m=\u001b[39m \u001b[38;5;28mself\u001b[39m\u001b[38;5;241m.\u001b[39mscan_once(s, idx)\n\u001b[0;32m    354\u001b[0m \u001b[38;5;28;01mexcept\u001b[39;00m \u001b[38;5;167;01mStopIteration\u001b[39;00m \u001b[38;5;28;01mas\u001b[39;00m err:\n\u001b[1;32m--> 355\u001b[0m     \u001b[38;5;28;01mraise\u001b[39;00m JSONDecodeError(\u001b[38;5;124m\"\u001b[39m\u001b[38;5;124mExpecting value\u001b[39m\u001b[38;5;124m\"\u001b[39m, s, err\u001b[38;5;241m.\u001b[39mvalue) \u001b[38;5;28;01mfrom\u001b[39;00m \u001b[38;5;28;01mNone\u001b[39;00m\n\u001b[0;32m    356\u001b[0m \u001b[38;5;28;01mreturn\u001b[39;00m obj, end\n",
      "\u001b[1;31mJSONDecodeError\u001b[0m: Expecting value: line 1 column 1 (char 0)"
     ]
    }
   ],
   "source": [
    "import ollama\n",
    "\n",
    "# Initialize the Ollama client\n",
    "client = ollama.Client()\n",
    "\n",
    "# Define the model and the input prompt\n",
    "model = \"mistral\"  # Replace with your model name\n",
    "\n",
    "# Send the query to the model\n",
    "response = client.generate(model=model, prompt=prompt)\n",
    "\n",
    "# Process JSON response\n",
    "result = response.response\n",
    "cleaned_text = result.strip() \n",
    "json_str = cleaned_text\n",
    "flashcards = json.loads(json_str)"
   ]
  },
  {
   "cell_type": "code",
   "execution_count": 96,
   "metadata": {},
   "outputs": [
    {
     "data": {
      "text/plain": [
       "[{'question': \"What is the title of Celine Song's first feature movie?\",\n",
       "  'answer': 'Past Lives'},\n",
       " {'question': 'How many chapters can Past Lives be roughly divided into?',\n",
       "  'answer': 'Three'},\n",
       " {'question': 'In the first chapter of Past Lives, who are the main characters and where do they live?',\n",
       "  'answer': 'Nora and Hae Sung. They live in Korea.'},\n",
       " {'question': \"What is the setting of the second chapter of Past Lives' story?\",\n",
       "  'answer': 'New York'},\n",
       " {'question': 'Who is Nora married to in the second chapter of Past Lives?',\n",
       "  'answer': 'Arthur'},\n",
       " {'question': 'What is the main theme that Past Lives subverts about romantic relationships?',\n",
       "  'answer': \"The expectation of making the 'right' choice in a relationship.\"},\n",
       " {'question': 'What feeling does Past Lives convey through its story and dialogues that is not quite captured by words like doubt, longing or regret?',\n",
       "  'answer': 'A bittersweet melancholy'},\n",
       " {'question': 'What term is introduced in the third chapter of Past Lives to describe a spiritual connection between people?',\n",
       "  'answer': 'In-Yun'},\n",
       " {'question': 'Why does In-Yun, as explained by Nora, form between people according to the movie Past Lives?',\n",
       "  'answer': 'Even a moment of accidentally brushing clothes with a stranger can create an In-Yun.'},\n",
       " {'question': 'What is significant about the love story between Nora and Hae Sung in Past Lives, according to the content excerpt?',\n",
       "  'answer': \"It's not just about their relationship but also about that between Nora and Arthur.\"},\n",
       " {'question': 'What is Past Lives not about, as suggested by the content excerpt?',\n",
       "  'answer': 'Ending with one idea taking over the other, or being entirely dreamy or fully grounded in stark realism.'},\n",
       " {'question': 'Why does Past Lives stand out to the author personally, according to the content excerpt?',\n",
       "  'answer': \"Because it doesn't end with one idea taking over the other, and it's not all dreamy nor fully grounded in stark realism.\"},\n",
       " {'question': 'What realization does Past Lives confront its audience with, according to the content excerpt?',\n",
       "  'answer': \"The realization that our loved ones would have met other people, made different connections, and fallen in love with someone else if we hadn't been part of their lives.\"},\n",
       " {'question': 'What is the search for in Past Lives according to the content excerpt?',\n",
       "  'answer': 'Meaning, understanding'},\n",
       " {'question': \"Why isn't life as depicted in Past Lives, according to the content excerpt?\",\n",
       "  'answer': 'It’s not how life works. And perhaps even more confronting, the realization that this alternative life wouldn’t have been meaningfully different.'}]"
      ]
     },
     "execution_count": 96,
     "metadata": {},
     "output_type": "execute_result"
    }
   ],
   "source": [
    "flashcards"
   ]
  },
  {
   "cell_type": "code",
   "execution_count": 86,
   "metadata": {},
   "outputs": [
    {
     "data": {
      "text/plain": [
       "list"
      ]
     },
     "execution_count": 86,
     "metadata": {},
     "output_type": "execute_result"
    }
   ],
   "source": [
    "type(flashcards)"
   ]
  },
  {
   "cell_type": "code",
   "execution_count": 78,
   "metadata": {},
   "outputs": [],
   "source": [
    "result = response.response"
   ]
  },
  {
   "cell_type": "code",
   "execution_count": 79,
   "metadata": {},
   "outputs": [
    {
     "data": {
      "text/plain": [
       "'[\\n    {\"question\": \"What is the name of the first feature movie by Celine Song?\", \"answer\": \"Past Lives\"},\\n    {\"question\": \"What do the three strangers sitting across the bar in Past Lives represent?\", \"answer\": \"Their past lives or past connections\"},\\n    {\"question\": \"How many chapters does Past Lives have?\", \"answer\": \"Three\"},\\n    {\"question\": \"What is Nora\\'s relationship with Hae Sung as an adolescent?\", \"answer\": \"Secret crush\"},\\n    {\"question\": \"Where do Nora and Hae Sung live at different stages of their lives?\", \"answer\": \"Korea and New York\"},\\n    {\"question\": \"How many times does the 12-year gap appear in Past Lives?\", \"answer\": \"Two\"},\\n    {\"question\": \"What is Nora\\'s occupation in the second chapter of Past Lives?\", \"answer\": \"Playscript writer or playwright\"},\\n    {\"question\": \"Who does Hae Sung still live with after Nora marries Arthur?\", \"answer\": \"Himself, in Korea\"},\\n    {\"question\": \"Is the love story between Nora and Hae Sung fully developed in Past Lives?\", \"answer\": \"No\"},\\n    {\"question\": \"What is In-Yun, according to Nora?\", \"answer\": \"A sort of spiritual connection formed by past encounters between people\"},\\n    {\"question\": \"Why does Nora feel a strong emotion towards Hae Sung?\", \"answer\": \"The potential of what could have been if their family didn\\'t move\"},  \\n    {\"question\": \"What is the main theme of Past Lives according to the excerpt?\", \"answer\": \"Weighing options in terms of right and wrong\"},\\n    {\"question\": \"Is an alternative life with Hae Sung truly different from Nora\\'s current one?\", \"answer\": \"Not meaningfully so\"},  \\n    {\"question\": \"What lesson does the excerpt draw from past lives?\", \"answer\": \"Life works in its own way, we cannot be someone else and somewhere else\"},\\n    {\"question\": \"Is Past Lives just a love story between Nora and Hae Sung?\", \"answer\": \"No, it\\'s also about the relationship between Nora and Arthur\"}\\n]'"
      ]
     },
     "execution_count": 79,
     "metadata": {},
     "output_type": "execute_result"
    }
   ],
   "source": [
    "result\n"
   ]
  },
  {
   "cell_type": "code",
   "execution_count": 80,
   "metadata": {},
   "outputs": [
    {
     "name": "stdout",
     "output_type": "stream",
     "text": [
      "[\n",
      "    {\"question\": \"What is the name of the first feature movie by Celine Song?\", \"answer\": \"Past Lives\"},\n",
      "    {\"question\": \"What do the three strangers sitting across the bar in Past Lives represent?\", \"answer\": \"Their past lives or past connections\"},\n",
      "    {\"question\": \"How many chapters does Past Lives have?\", \"answer\": \"Three\"},\n",
      "    {\"question\": \"What is Nora's relationship with Hae Sung as an adolescent?\", \"answer\": \"Secret crush\"},\n",
      "    {\"question\": \"Where do Nora and Hae Sung live at different stages of their lives?\", \"answer\": \"Korea and New York\"},\n",
      "    {\"question\": \"How many times does the 12-year gap appear in Past Lives?\", \"answer\": \"Two\"},\n",
      "    {\"question\": \"What is Nora's occupation in the second chapter of Past Lives?\", \"answer\": \"Playscript writer or playwright\"},\n",
      "    {\"question\": \"Who does Hae Sung still live with after Nora marries Arthur?\", \"answer\": \"Himself, in Korea\"},\n",
      "    {\"question\": \"Is the love story between Nora and Hae Sung fully developed in Past Lives?\", \"answer\": \"No\"},\n",
      "    {\"question\": \"What is In-Yun, according to Nora?\", \"answer\": \"A sort of spiritual connection formed by past encounters between people\"},\n",
      "    {\"question\": \"Why does Nora feel a strong emotion towards Hae Sung?\", \"answer\": \"The potential of what could have been if their family didn't move\"},  \n",
      "    {\"question\": \"What is the main theme of Past Lives according to the excerpt?\", \"answer\": \"Weighing options in terms of right and wrong\"},\n",
      "    {\"question\": \"Is an alternative life with Hae Sung truly different from Nora's current one?\", \"answer\": \"Not meaningfully so\"},  \n",
      "    {\"question\": \"What lesson does the excerpt draw from past lives?\", \"answer\": \"Life works in its own way, we cannot be someone else and somewhere else\"},\n",
      "    {\"question\": \"Is Past Lives just a love story between Nora and Hae Sung?\", \"answer\": \"No, it's also about the relationship between Nora and Arthur\"}\n",
      "]\n"
     ]
    }
   ],
   "source": [
    "cleaned_text = result.strip() \n",
    "\n",
    "print(cleaned_text)"
   ]
  },
  {
   "cell_type": "code",
   "execution_count": 81,
   "metadata": {},
   "outputs": [],
   "source": [
    "json_str = cleaned_text"
   ]
  },
  {
   "cell_type": "code",
   "execution_count": 82,
   "metadata": {},
   "outputs": [],
   "source": [
    "flashcards = json.loads(json_str)"
   ]
  },
  {
   "cell_type": "code",
   "execution_count": 83,
   "metadata": {},
   "outputs": [
    {
     "data": {
      "text/plain": [
       "[{'question': 'What is the name of the first feature movie by Celine Song?',\n",
       "  'answer': 'Past Lives'},\n",
       " {'question': 'What do the three strangers sitting across the bar in Past Lives represent?',\n",
       "  'answer': 'Their past lives or past connections'},\n",
       " {'question': 'How many chapters does Past Lives have?', 'answer': 'Three'},\n",
       " {'question': \"What is Nora's relationship with Hae Sung as an adolescent?\",\n",
       "  'answer': 'Secret crush'},\n",
       " {'question': 'Where do Nora and Hae Sung live at different stages of their lives?',\n",
       "  'answer': 'Korea and New York'},\n",
       " {'question': 'How many times does the 12-year gap appear in Past Lives?',\n",
       "  'answer': 'Two'},\n",
       " {'question': \"What is Nora's occupation in the second chapter of Past Lives?\",\n",
       "  'answer': 'Playscript writer or playwright'},\n",
       " {'question': 'Who does Hae Sung still live with after Nora marries Arthur?',\n",
       "  'answer': 'Himself, in Korea'},\n",
       " {'question': 'Is the love story between Nora and Hae Sung fully developed in Past Lives?',\n",
       "  'answer': 'No'},\n",
       " {'question': 'What is In-Yun, according to Nora?',\n",
       "  'answer': 'A sort of spiritual connection formed by past encounters between people'},\n",
       " {'question': 'Why does Nora feel a strong emotion towards Hae Sung?',\n",
       "  'answer': \"The potential of what could have been if their family didn't move\"},\n",
       " {'question': 'What is the main theme of Past Lives according to the excerpt?',\n",
       "  'answer': 'Weighing options in terms of right and wrong'},\n",
       " {'question': \"Is an alternative life with Hae Sung truly different from Nora's current one?\",\n",
       "  'answer': 'Not meaningfully so'},\n",
       " {'question': 'What lesson does the excerpt draw from past lives?',\n",
       "  'answer': 'Life works in its own way, we cannot be someone else and somewhere else'},\n",
       " {'question': 'Is Past Lives just a love story between Nora and Hae Sung?',\n",
       "  'answer': \"No, it's also about the relationship between Nora and Arthur\"}]"
      ]
     },
     "execution_count": 83,
     "metadata": {},
     "output_type": "execute_result"
    }
   ],
   "source": [
    "flashcards"
   ]
  },
  {
   "cell_type": "code",
   "execution_count": null,
   "metadata": {},
   "outputs": [],
   "source": []
  }
 ],
 "metadata": {
  "kernelspec": {
   "display_name": "base",
   "language": "python",
   "name": "python3"
  },
  "language_info": {
   "codemirror_mode": {
    "name": "ipython",
    "version": 3
   },
   "file_extension": ".py",
   "mimetype": "text/x-python",
   "name": "python",
   "nbconvert_exporter": "python",
   "pygments_lexer": "ipython3",
   "version": "3.12.4"
  }
 },
 "nbformat": 4,
 "nbformat_minor": 2
}
